{
 "cells": [
  {
   "cell_type": "markdown",
   "id": "482ec3e7-d7db-4653-af9e-b0b0dafd026f",
   "metadata": {},
   "source": [
    "Q1. Create a dictionary called fruits with the following key-value pairs:\n",
    "\"apple\": 0.75\n",
    "\"banana\": 1.25\n",
    "\"orange\": 0.90\n",
    "Then, print out the price of a banana."
   ]
  },
  {
   "cell_type": "code",
   "execution_count": 1,
   "id": "8061a733-98f4-4351-a59f-34b5f2ccab8e",
   "metadata": {},
   "outputs": [
    {
     "name": "stdout",
     "output_type": "stream",
     "text": [
      "1.25\n"
     ]
    }
   ],
   "source": [
    "fruits = {\"apple\":0.75,\n",
    "         \"banana\" : 1.25,\n",
    "         \"orange\" : 0.90\n",
    "         }\n",
    "\n",
    "print(fruits[\"banana\"])"
   ]
  },
  {
   "cell_type": "markdown",
   "id": "6c6985b2-2885-4392-97cc-d1a029b24329",
   "metadata": {},
   "source": [
    "Q2. Create an empty dictionary called ages. Add the following key-value pairs to the dictionary:\n",
    "\"Alice\": 30\n",
    "\"Bob\": 25\n",
    "\"Charlie\": 35\n",
    "Then, print out the age of Charlie."
   ]
  },
  {
   "cell_type": "code",
   "execution_count": 2,
   "id": "d9e17957-1394-4e33-8462-005afb48cd37",
   "metadata": {},
   "outputs": [
    {
     "name": "stdout",
     "output_type": "stream",
     "text": [
      "35\n"
     ]
    }
   ],
   "source": [
    "ages = {}\n",
    "\n",
    "ages[\"Alice\"] = 30\n",
    "ages[\"Bob\"] = 25\n",
    "ages[\"Charlie\"] = 35\n",
    "\n",
    "print(ages[\"Charlie\"])\n",
    "# print(ages)"
   ]
  },
  {
   "cell_type": "markdown",
   "id": "24a49ef7-e3e5-459e-bba1-de499caa56a4",
   "metadata": {},
   "source": [
    "Q3. Write a function called word_count(text) that takes a string as input and returns a dictionary where\n",
    "each key is a word in the text and its value is the number of times that word appears in the text. For\n",
    "example, word_count(\"hello world hello\") should return {\"hello\": 2, \"world\": 1}."
   ]
  },
  {
   "cell_type": "code",
   "execution_count": 7,
   "id": "6cddc4a1-06c4-449e-b499-7a2b129a71c3",
   "metadata": {},
   "outputs": [
    {
     "name": "stdout",
     "output_type": "stream",
     "text": [
      "{'hello': 2, 'world': 1}\n"
     ]
    }
   ],
   "source": [
    "def word_count(text):\n",
    "    words = text.lower().split()\n",
    "    # Initialize an empty list\n",
    "    count = {}\n",
    "    \n",
    "    # Loop through the words and count the number of occurrences of each word.\n",
    "    \n",
    "    for word in words:\n",
    "        if word in count:\n",
    "            count[word] += 1\n",
    "        else:\n",
    "            count[word] = 1\n",
    "    return count\n",
    "\n",
    "text = \"hello world hello\"\n",
    "count = word_count(text)\n",
    "print(count)"
   ]
  },
  {
   "cell_type": "markdown",
   "id": "c6d3d930-d03a-49e9-8bf4-95e83d353af1",
   "metadata": {},
   "source": [
    "Q4. Create a dictionary called phone_book with the following key-value pairs:\n",
    "\"Alice\": \"555-1234\"\n",
    "\"Bob\": \"555-5678\"\n",
    "\"Charlie\": \"555-9012\"\n",
    "Then, prompt the user to enter a name and print out the corresponding phone number. If the name is not\n",
    "in the phone book, print out a message saying that the name was not found."
   ]
  },
  {
   "cell_type": "code",
   "execution_count": 14,
   "id": "76b28026-8011-45a1-af80-5fceee9a6a82",
   "metadata": {},
   "outputs": [
    {
     "name": "stdin",
     "output_type": "stream",
     "text": [
      "Enter a name Alice\n"
     ]
    },
    {
     "name": "stdout",
     "output_type": "stream",
     "text": [
      "Alice's phone number is 555-1234.\n"
     ]
    }
   ],
   "source": [
    "phone_book = {\"Alice\":\"555-1234\",\n",
    "           \"Bob\": \"555-5678\",\n",
    "           \"Charlie\":\"555-9012\"\n",
    "}\n",
    "name = input(\"Enter a name\")\n",
    "\n",
    "if name in phone_book:\n",
    "    phone_number = phone_book[name]\n",
    "    print(f\"{name}'s phone number is {phone_number}.\")\n",
    "else:\n",
    "    print(f\"{name} was not found in the phone book.\")"
   ]
  },
  {
   "cell_type": "markdown",
   "id": "653504eb-6a2a-4f0d-9085-ef5ae9350bd5",
   "metadata": {},
   "source": [
    "Q5. Write a program that prompts the user to enter a number between 1 and 10. If the number is less than\n",
    "5, print out \"Too low!\", otherwise print out \"Too high!\"."
   ]
  },
  {
   "cell_type": "code",
   "execution_count": 17,
   "id": "e5e67fc1-1b79-4fc6-9649-391e6f7366fe",
   "metadata": {},
   "outputs": [
    {
     "name": "stdin",
     "output_type": "stream",
     "text": [
      "Enter a number between 1 and 10 5\n"
     ]
    },
    {
     "name": "stdout",
     "output_type": "stream",
     "text": [
      "Too high\n"
     ]
    }
   ],
   "source": [
    "num = int(input(\"Enter a number between 1 and 10\"))\n",
    "if(num<5):\n",
    "    print(\"Too low\")\n",
    "else:\n",
    "    print(\"Too high\")"
   ]
  },
  {
   "cell_type": "markdown",
   "id": "7df11823-fdcd-4d9a-ae42-31929d20da03",
   "metadata": {},
   "source": [
    "Q6. Write a program that prompts the user to enter a password. If the password is \"password123\", print\n",
    "out \"Access granted\", otherwise print out \"Access denied\"."
   ]
  },
  {
   "cell_type": "code",
   "execution_count": 21,
   "id": "91f44172-2d19-4f2e-b60d-32beee4d21c7",
   "metadata": {},
   "outputs": [
    {
     "name": "stdin",
     "output_type": "stream",
     "text": [
      "Enter a password grg\n"
     ]
    },
    {
     "name": "stdout",
     "output_type": "stream",
     "text": [
      "Access denied\n"
     ]
    }
   ],
   "source": [
    "password = input(\"Enter a password\")\n",
    "if password == \"password123\":\n",
    "    print(\"Access granted\")\n",
    "else:\n",
    "    print(\"Access denied\")"
   ]
  },
  {
   "cell_type": "markdown",
   "id": "46df11af-d484-45cd-9a06-d7d28f541a4f",
   "metadata": {},
   "source": [
    "Q7. Write a program that prompts the user to enter a positive integer. Then, use a loop to print out all the\n",
    "odd numbers from 1 to that integer."
   ]
  },
  {
   "cell_type": "code",
   "execution_count": 26,
   "id": "f093aea4-6e1a-4f97-8aed-1304065f5968",
   "metadata": {},
   "outputs": [
    {
     "name": "stdin",
     "output_type": "stream",
     "text": [
      "Enter a positive integer 18\n"
     ]
    },
    {
     "name": "stdout",
     "output_type": "stream",
     "text": [
      "1\n",
      "3\n",
      "5\n",
      "7\n",
      "9\n",
      "11\n",
      "13\n",
      "15\n",
      "17\n"
     ]
    }
   ],
   "source": [
    "int_num = int(input(\"Enter a positive integer\"))\n",
    "# for i in range(1,int_num+1,2):\n",
    "for i in range(1,int_num+1):\n",
    "    if(i%2!=0):\n",
    "        print(i)\n",
    "        "
   ]
  },
  {
   "cell_type": "markdown",
   "id": "b2effd63-a59b-4aa2-a827-951e27ced538",
   "metadata": {},
   "source": [
    "Q8. Write a program that generates a random number between 1 and 100 and then prompts the user to\n",
    "guess the number. If the user's guess is too low, print out \"Too low!\", if the guess is too high, print out \"Too\n",
    "high!\", and if the guess is correct, print out \"You win!\"."
   ]
  },
  {
   "cell_type": "code",
   "execution_count": null,
   "id": "e255315d-8dba-4b30-9372-1ab9ac7e1e46",
   "metadata": {},
   "outputs": [
    {
     "name": "stdin",
     "output_type": "stream",
     "text": [
      "Please guess any number 2\n"
     ]
    },
    {
     "name": "stdout",
     "output_type": "stream",
     "text": [
      "Too low!\n"
     ]
    },
    {
     "name": "stdin",
     "output_type": "stream",
     "text": [
      "Please guess again 3\n"
     ]
    },
    {
     "name": "stdout",
     "output_type": "stream",
     "text": [
      "Too low!\n"
     ]
    },
    {
     "name": "stdin",
     "output_type": "stream",
     "text": [
      "Please guess again 100\n"
     ]
    },
    {
     "name": "stdout",
     "output_type": "stream",
     "text": [
      "Too low!\n"
     ]
    }
   ],
   "source": [
    "import random\n",
    "num = random.randint(1,100)\n",
    "\n",
    "user_guess = int(input(\"Please guess any number\"))\n",
    "while user_guess != num:\n",
    "    if user_guess < num:\n",
    "        print(\"Too low!\")\n",
    "    else:\n",
    "        print(\"To high!\")\n",
    "    guess = int(input(\"Please guess again\"))\n",
    "\n",
    "print(\"You win!\")"
   ]
  },
  {
   "cell_type": "markdown",
   "id": "4769995d-739a-4380-a3e3-755eab1211d0",
   "metadata": {},
   "source": [
    "Q9. Write a program that generates a random number between 1 and 10 and then prompts the user to\n",
    "guess the number. The user has three attempts to guess the number. If the user guesses correctly within\n",
    "three attempts, print out \"You win!\", otherwise print out \"You lose!\"."
   ]
  },
  {
   "cell_type": "code",
   "execution_count": 5,
   "id": "1f6406a1-a4a9-437c-9ec7-d083bb0dfed3",
   "metadata": {},
   "outputs": [
    {
     "name": "stdin",
     "output_type": "stream",
     "text": [
      "Enter your guessed number 5\n"
     ]
    },
    {
     "name": "stdout",
     "output_type": "stream",
     "text": [
      "Too high!\n"
     ]
    },
    {
     "name": "stdin",
     "output_type": "stream",
     "text": [
      "Enter your guessed number 4\n"
     ]
    },
    {
     "name": "stdout",
     "output_type": "stream",
     "text": [
      "You win!\n"
     ]
    }
   ],
   "source": [
    "import random\n",
    "rand_num = random.randint(1,10)\n",
    "\n",
    "attempts = 3\n",
    "\n",
    "\n",
    "while(attempts > 0):\n",
    "    guess_num = int(input(\"Enter your guessed number\"))\n",
    "    if(guess_num == rand_num):\n",
    "        print(\"You win!\")\n",
    "        break\n",
    "    elif(guess_num < rand_num):\n",
    "        print(\"Too low!\")\n",
    "    else:\n",
    "        print(\"Too high!\")\n",
    "    attempts -= 1\n",
    "    \n",
    "if attempts == 0:\n",
    "    print(\"You lose!\")\n",
    "    "
   ]
  },
  {
   "cell_type": "markdown",
   "id": "a037e0ab-8553-44fe-b18e-3c4a2722a178",
   "metadata": {},
   "source": [
    "Q10. Write a program that prompts the user to enter their age and then prints out whether they are a child\n",
    "(age 0-12), a teenager (age 13-19), an adult (age 20-59), or a senior (age 60+)"
   ]
  },
  {
   "cell_type": "code",
   "execution_count": 13,
   "id": "eaff3a3c-57f7-4817-aa50-6120800b7bdc",
   "metadata": {},
   "outputs": [
    {
     "name": "stdin",
     "output_type": "stream",
     "text": [
      "Enter your age 19\n"
     ]
    },
    {
     "name": "stdout",
     "output_type": "stream",
     "text": [
      "You're a teenager\n"
     ]
    }
   ],
   "source": [
    "user_age = int(input(\"Enter your age\"))\n",
    "if user_age in range(0,13):\n",
    "    print(\"You're a child\")\n",
    "elif user_age in range(13,20):\n",
    "    print(\"You're a teenager\")\n",
    "elif user_age in range(20,60):\n",
    "    print(\"You're an adult\")\n",
    "else:\n",
    "    print(\"You're a senior \")"
   ]
  },
  {
   "cell_type": "code",
   "execution_count": 14,
   "id": "57bb3b9d-06ed-4091-bd46-be675ba04a17",
   "metadata": {},
   "outputs": [
    {
     "name": "stdin",
     "output_type": "stream",
     "text": [
      "Enter your age 33\n"
     ]
    },
    {
     "name": "stdout",
     "output_type": "stream",
     "text": [
      "You're an adult\n"
     ]
    }
   ],
   "source": [
    "age = int(input(\"Enter your age\"))\n",
    "if age <=12:\n",
    "    print(\"You're a child\")\n",
    "elif age <=19:\n",
    "    print(\"You're a teenager\")\n",
    "elif age<=59:\n",
    "    print(\"You're an adult\")\n",
    "else:\n",
    "    print(\"You're a senior\")"
   ]
  },
  {
   "cell_type": "code",
   "execution_count": null,
   "id": "2ad7dab3-8e89-414d-a3c2-ed616984f4d6",
   "metadata": {},
   "outputs": [],
   "source": []
  }
 ],
 "metadata": {
  "kernelspec": {
   "display_name": "Python 3 (ipykernel)",
   "language": "python",
   "name": "python3"
  },
  "language_info": {
   "codemirror_mode": {
    "name": "ipython",
    "version": 3
   },
   "file_extension": ".py",
   "mimetype": "text/x-python",
   "name": "python",
   "nbconvert_exporter": "python",
   "pygments_lexer": "ipython3",
   "version": "3.10.8"
  }
 },
 "nbformat": 4,
 "nbformat_minor": 5
}
